{
 "cells": [
  {
   "cell_type": "code",
   "execution_count": 1,
   "metadata": {},
   "outputs": [],
   "source": [
    "import torch"
   ]
  },
  {
   "cell_type": "code",
   "execution_count": 2,
   "metadata": {},
   "outputs": [
    {
     "data": {
      "text/plain": [
       "torch.Size([7])"
      ]
     },
     "execution_count": 2,
     "metadata": {},
     "output_type": "execute_result"
    }
   ],
   "source": [
    "temp = torch.FloatTensor([23,24,25,13,24,35,13])\n",
    "temp.size()"
   ]
  },
  {
   "cell_type": "code",
   "execution_count": 3,
   "metadata": {},
   "outputs": [
    {
     "data": {
      "text/plain": [
       "tensor([23., 24., 25., 13., 24., 35., 13.])"
      ]
     },
     "execution_count": 3,
     "metadata": {},
     "output_type": "execute_result"
    }
   ],
   "source": [
    "temp"
   ]
  },
  {
   "cell_type": "code",
   "execution_count": 7,
   "metadata": {},
   "outputs": [],
   "source": [
    "x = torch.rand_like(temp)"
   ]
  },
  {
   "cell_type": "code",
   "execution_count": 9,
   "metadata": {},
   "outputs": [
    {
     "data": {
      "text/plain": [
       "tensor([0.9002, 0.3998, 0.9634, 0.1806, 0.6236, 0.9680, 0.2608])"
      ]
     },
     "execution_count": 9,
     "metadata": {},
     "output_type": "execute_result"
    }
   ],
   "source": [
    "x"
   ]
  },
  {
   "cell_type": "code",
   "execution_count": 13,
   "metadata": {},
   "outputs": [],
   "source": [
    "import torch.nn as nn"
   ]
  },
  {
   "cell_type": "code",
   "execution_count": 14,
   "metadata": {},
   "outputs": [],
   "source": [
    "# Define input size, hidden layer size, output size and batch size\n",
    "n_in, n_h, n_out, batch_size = 10, 5, 1, 10"
   ]
  },
  {
   "cell_type": "code",
   "execution_count": 15,
   "metadata": {},
   "outputs": [],
   "source": [
    "x = torch.randn(batch_size, n_in)\n",
    "y = torch.tensor([[1.0], [0.0], [0.0], [1.0], [1.0], [1.0], [0.0], [0.0], [1.0], [1.0]])"
   ]
  },
  {
   "cell_type": "code",
   "execution_count": 16,
   "metadata": {},
   "outputs": [],
   "source": [
    "model =  nn.Sequential(nn.Linear(n_in, n_h),\n",
    "                      nn.ReLU(),\n",
    "                      nn.Linear(n_h,n_out),\n",
    "                      nn.Sigmoid())"
   ]
  },
  {
   "cell_type": "code",
   "execution_count": 17,
   "metadata": {},
   "outputs": [],
   "source": [
    "criterion = torch.nn.MSELoss()\n",
    "\n",
    "optimizer = torch.optim.SGD(model.parameters(), lr=0.01)"
   ]
  },
  {
   "cell_type": "code",
   "execution_count": 18,
   "metadata": {},
   "outputs": [
    {
     "name": "stdout",
     "output_type": "stream",
     "text": [
      "epoch:  0 loss:  0.2547908127307892\n",
      "epoch:  1 loss:  0.2546808123588562\n",
      "epoch:  2 loss:  0.2545713484287262\n",
      "epoch:  3 loss:  0.25446248054504395\n",
      "epoch:  4 loss:  0.2543541491031647\n",
      "epoch:  5 loss:  0.25424644351005554\n",
      "epoch:  6 loss:  0.2541392147541046\n",
      "epoch:  7 loss:  0.25403261184692383\n",
      "epoch:  8 loss:  0.25392648577690125\n",
      "epoch:  9 loss:  0.2538209557533264\n",
      "epoch:  10 loss:  0.2537159323692322\n",
      "epoch:  11 loss:  0.2536114752292633\n",
      "epoch:  12 loss:  0.253507524728775\n",
      "epoch:  13 loss:  0.2534041106700897\n",
      "epoch:  14 loss:  0.253301203250885\n",
      "epoch:  15 loss:  0.2531988024711609\n",
      "epoch:  16 loss:  0.25309696793556213\n",
      "epoch:  17 loss:  0.2529956102371216\n",
      "epoch:  18 loss:  0.2528947591781616\n",
      "epoch:  19 loss:  0.2527904212474823\n",
      "epoch:  20 loss:  0.2526661455631256\n",
      "epoch:  21 loss:  0.25254252552986145\n",
      "epoch:  22 loss:  0.25241947174072266\n",
      "epoch:  23 loss:  0.2522970736026764\n",
      "epoch:  24 loss:  0.2521752417087555\n",
      "epoch:  25 loss:  0.25205400586128235\n",
      "epoch:  26 loss:  0.25193339586257935\n",
      "epoch:  27 loss:  0.2518133521080017\n",
      "epoch:  28 loss:  0.25169387459754944\n",
      "epoch:  29 loss:  0.2515749931335449\n",
      "epoch:  30 loss:  0.25145667791366577\n",
      "epoch:  31 loss:  0.2513388991355896\n",
      "epoch:  32 loss:  0.2512217164039612\n",
      "epoch:  33 loss:  0.25110507011413574\n",
      "epoch:  34 loss:  0.25098899006843567\n",
      "epoch:  35 loss:  0.2508734166622162\n",
      "epoch:  36 loss:  0.2507583796977997\n",
      "epoch:  37 loss:  0.25064387917518616\n",
      "epoch:  38 loss:  0.2505299150943756\n",
      "epoch:  39 loss:  0.25041645765304565\n",
      "epoch:  40 loss:  0.2503035366535187\n",
      "epoch:  41 loss:  0.2501911222934723\n",
      "epoch:  42 loss:  0.2500791847705841\n",
      "epoch:  43 loss:  0.2499677538871765\n",
      "epoch:  44 loss:  0.2498568296432495\n",
      "epoch:  45 loss:  0.2497463971376419\n",
      "epoch:  46 loss:  0.2496364414691925\n",
      "epoch:  47 loss:  0.2495269775390625\n",
      "epoch:  48 loss:  0.2494179606437683\n",
      "epoch:  49 loss:  0.24930943548679352\n"
     ]
    }
   ],
   "source": [
    "for epoch in range(50):\n",
    "    y_pred = model(x)\n",
    "    \n",
    "    loss = criterion(y_pred, y)\n",
    "    print('epoch: ', epoch,'loss: ', loss.item())\n",
    "    \n",
    "    optimizer.zero_grad()\n",
    "    \n",
    "    loss.backward()\n",
    "    \n",
    "    optimizer.step()"
   ]
  },
  {
   "cell_type": "code",
   "execution_count": null,
   "metadata": {},
   "outputs": [],
   "source": []
  }
 ],
 "metadata": {
  "kernelspec": {
   "display_name": "Python 3",
   "language": "python",
   "name": "python3"
  },
  "language_info": {
   "codemirror_mode": {
    "name": "ipython",
    "version": 3
   },
   "file_extension": ".py",
   "mimetype": "text/x-python",
   "name": "python",
   "nbconvert_exporter": "python",
   "pygments_lexer": "ipython3",
   "version": "3.6.9"
  }
 },
 "nbformat": 4,
 "nbformat_minor": 2
}
